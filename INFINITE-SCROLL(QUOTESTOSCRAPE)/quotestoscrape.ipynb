{
 "cells": [
  {
   "cell_type": "code",
   "execution_count": 2,
   "id": "080b053e",
   "metadata": {},
   "outputs": [],
   "source": [
    "import requests\n",
    "from bs4 import BeautifulSoup"
   ]
  },
  {
   "cell_type": "code",
   "execution_count": 3,
   "id": "b19d467c",
   "metadata": {},
   "outputs": [],
   "source": [
    "url = \"https://quotes.toscrape.com/scroll\"\n",
    "url1 = \"https://quotes.toscrape.com/api/quotes?page=1\""
   ]
  },
  {
   "cell_type": "code",
   "execution_count": 8,
   "id": "75cc8656",
   "metadata": {},
   "outputs": [],
   "source": [
    "resp = requests.get(url1)"
   ]
  },
  {
   "cell_type": "code",
   "execution_count": 9,
   "id": "67ec0bb3",
   "metadata": {},
   "outputs": [
    {
     "data": {
      "text/plain": [
       "200"
      ]
     },
     "execution_count": 9,
     "metadata": {},
     "output_type": "execute_result"
    }
   ],
   "source": [
    "resp.status_code"
   ]
  },
  {
   "cell_type": "code",
   "execution_count": 10,
   "id": "35af01be",
   "metadata": {},
   "outputs": [],
   "source": [
    "soup = BeautifulSoup(resp.content, \"lxml\")"
   ]
  },
  {
   "cell_type": "code",
   "execution_count": 11,
   "id": "63ff7fc0",
   "metadata": {},
   "outputs": [
    {
     "name": "stdout",
     "output_type": "stream",
     "text": [
      "<html>\n",
      " <body>\n",
      "  <p>\n",
      "   {\"has_next\":true,\"page\":1,\"quotes\":[{\"author\":{\"goodreads_link\":\"/author/show/9810.Albert_Einstein\",\"name\":\"Albert Einstein\",\"slug\":\"Albert-Einstein\"},\"tags\":[\"change\",\"deep-thoughts\",\"thinking\",\"world\"],\"text\":\"\\u201cThe world as we have created it is a process of our thinking. It cannot be changed without changing our thinking.\\u201d\"},{\"author\":{\"goodreads_link\":\"/author/show/1077326.J_K_Rowling\",\"name\":\"J.K. Rowling\",\"slug\":\"J-K-Rowling\"},\"tags\":[\"abilities\",\"choices\"],\"text\":\"\\u201cIt is our choices, Harry, that show what we truly are, far more than our abilities.\\u201d\"},{\"author\":{\"goodreads_link\":\"/author/show/9810.Albert_Einstein\",\"name\":\"Albert Einstein\",\"slug\":\"Albert-Einstein\"},\"tags\":[\"inspirational\",\"life\",\"live\",\"miracle\",\"miracles\"],\"text\":\"\\u201cThere are only two ways to live your life. One is as though nothing is a miracle. The other is as though everything is a miracle.\\u201d\"},{\"author\":{\"goodreads_link\":\"/author/show/1265.Jane_Austen\",\"name\":\"Jane Austen\",\"slug\":\"Jane-Austen\"},\"tags\":[\"aliteracy\",\"books\",\"classic\",\"humor\"],\"text\":\"\\u201cThe person, be it gentleman or lady, who has not pleasure in a good novel, must be intolerably stupid.\\u201d\"},{\"author\":{\"goodreads_link\":\"/author/show/82952.Marilyn_Monroe\",\"name\":\"Marilyn Monroe\",\"slug\":\"Marilyn-Monroe\"},\"tags\":[\"be-yourself\",\"inspirational\"],\"text\":\"\\u201cImperfection is beauty, madness is genius and it's better to be absolutely ridiculous than absolutely boring.\\u201d\"},{\"author\":{\"goodreads_link\":\"/author/show/9810.Albert_Einstein\",\"name\":\"Albert Einstein\",\"slug\":\"Albert-Einstein\"},\"tags\":[\"adulthood\",\"success\",\"value\"],\"text\":\"\\u201cTry not to become a man of success. Rather become a man of value.\\u201d\"},{\"author\":{\"goodreads_link\":\"/author/show/7617.Andr_Gide\",\"name\":\"Andr\\u00e9 Gide\",\"slug\":\"Andre-Gide\"},\"tags\":[\"life\",\"love\"],\"text\":\"\\u201cIt is better to be hated for what you are than to be loved for what you are not.\\u201d\"},{\"author\":{\"goodreads_link\":\"/author/show/3091287.Thomas_A_Edison\",\"name\":\"Thomas A. Edison\",\"slug\":\"Thomas-A-Edison\"},\"tags\":[\"edison\",\"failure\",\"inspirational\",\"paraphrased\"],\"text\":\"\\u201cI have not failed. I've just found 10,000 ways that won't work.\\u201d\"},{\"author\":{\"goodreads_link\":\"/author/show/44566.Eleanor_Roosevelt\",\"name\":\"Eleanor Roosevelt\",\"slug\":\"Eleanor-Roosevelt\"},\"tags\":[\"misattributed-eleanor-roosevelt\"],\"text\":\"\\u201cA woman is like a tea bag; you never know how strong it is until it's in hot water.\\u201d\"},{\"author\":{\"goodreads_link\":\"/author/show/7103.Steve_Martin\",\"name\":\"Steve Martin\",\"slug\":\"Steve-Martin\"},\"tags\":[\"humor\",\"obvious\",\"simile\"],\"text\":\"\\u201cA day without sunshine is like, you know, night.\\u201d\"}],\"tag\":null,\"top_ten_tags\":[[\"love\",14],[\"inspirational\",13],[\"life\",13],[\"humor\",12],[\"books\",11],[\"reading\",7],[\"friendship\",5],[\"friends\",4],[\"truth\",4],[\"simile\",3]]}\n",
      "  </p>\n",
      " </body>\n",
      "</html>\n",
      "\n"
     ]
    }
   ],
   "source": [
    "print(soup.prettify())"
   ]
  }
 ],
 "metadata": {
  "kernelspec": {
   "display_name": "Python 3 (ipykernel)",
   "language": "python",
   "name": "python3"
  },
  "language_info": {
   "codemirror_mode": {
    "name": "ipython",
    "version": 3
   },
   "file_extension": ".py",
   "mimetype": "text/x-python",
   "name": "python",
   "nbconvert_exporter": "python",
   "pygments_lexer": "ipython3",
   "version": "3.11.4"
  }
 },
 "nbformat": 4,
 "nbformat_minor": 5
}
