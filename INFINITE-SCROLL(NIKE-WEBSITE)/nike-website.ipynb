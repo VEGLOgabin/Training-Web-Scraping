{
 "cells": [
  {
   "cell_type": "code",
   "execution_count": 4,
   "metadata": {},
   "outputs": [],
   "source": [
    "import requests as r\n",
    "from bs4 import BeautifulSoup as b\n",
    "from selenium import webdriver\n",
    "from selenium.webdriver.common.keys import Keys\n",
    "from selenium.webdriver.common.by import By\n",
    "from selenium.webdriver.common.action_chains import ActionChains\n",
    "import time"
   ]
  },
  {
   "cell_type": "code",
   "execution_count": 5,
   "metadata": {},
   "outputs": [],
   "source": [
    "driver = webdriver.Firefox()"
   ]
  },
  {
   "cell_type": "code",
   "execution_count": 8,
   "metadata": {},
   "outputs": [],
   "source": [
    "url = \"https://www.nike.com/w/mens-lifestyle-shoes-13jrmznik1zy7ok\""
   ]
  },
  {
   "cell_type": "code",
   "execution_count": 9,
   "metadata": {},
   "outputs": [],
   "source": [
    "driver.get(url)"
   ]
  },
  {
   "cell_type": "code",
   "execution_count": 10,
   "metadata": {},
   "outputs": [],
   "source": [
    "action = ActionChains(driver)"
   ]
  },
  {
   "cell_type": "code",
   "execution_count": 11,
   "metadata": {},
   "outputs": [],
   "source": [
    "last_number = driver.execute_script(\"return document.body.scrollHeight\")"
   ]
  },
  {
   "cell_type": "code",
   "execution_count": 12,
   "metadata": {},
   "outputs": [
    {
     "data": {
      "text/plain": [
       "5755"
      ]
     },
     "execution_count": 12,
     "metadata": {},
     "output_type": "execute_result"
    }
   ],
   "source": [
    "last_number"
   ]
  },
  {
   "cell_type": "code",
   "execution_count": 15,
   "metadata": {},
   "outputs": [],
   "source": [
    "while True:\n",
    "    driver.execute_script(\"window.scrollTo(0,document.body.scrollHeight)\")\n",
    "    time.sleep(5)\n",
    "    new_height = driver.execute_script(\"return document.body.scrollHeight\")\n",
    "    if new_height == last_number:\n",
    "        break"
   ]
  },
  {
   "cell_type": "code",
   "execution_count": null,
   "metadata": {},
   "outputs": [],
   "source": []
  },
  {
   "cell_type": "code",
   "execution_count": 11,
   "metadata": {},
   "outputs": [],
   "source": [
    "import requests as r\n",
    "from bs4 import BeautifulSoup as b\n",
    "from selenium import webdriver\n",
    "from selenium.webdriver.common.keys import Keys\n",
    "from selenium.webdriver.common.by import By\n",
    "from selenium.webdriver.common.action_chains import ActionChains\n",
    "import time\n",
    "\n",
    "def scrapeInf():\n",
    "    driver = webdriver.Firefox()\n",
    "    url = \"https://www.nike.com/w/mens-lifestyle-shoes-13jrmznik1zy7ok\"\n",
    "    driver.get(url)\n",
    "    action = ActionChains(driver)\n",
    "    last_number = driver.execute_script(\"return document.body.scrollHeight\")\n",
    "    \n",
    "    while True:\n",
    "    driver.execute_script(\"window.scrollTo(0,document.body.scrollHeight)\")\n",
    "    time.sleep(5)\n",
    "    new_height = driver.execute_script(\"return document.body.scrollHeight\")\n",
    "    if new_height == last_number:\n",
    "        break"
   ]
  },
  {
   "cell_type": "code",
   "execution_count": 10,
   "metadata": {},
   "outputs": [
    {
     "name": "stdout",
     "output_type": "stream",
     "text": [
      "['Nike Air Max Dn', 'Nike Dunk Low Retro', 'Nike Zoom Vomero 5 SE', 'Nike V2K Run', 'Nike Air Max 1', \"Nike Air Max2 CB '94\", \"Nike Air Force 1 '07\", \"Nike Air Force 1 '07 LV8\", 'Nike Air Max 270', 'Nike Air VaporMax 2023 Flyknit', 'Nike Air More Uptempo', 'Nike Air Max 1', 'Nike Calm', 'Nike Calm', 'Nike V2K Run', 'Nike P-6000 Premium', 'Nike Air Max Plus', 'Nike Air Max 90', 'Nike Air Max 90', 'Nike Cortez', 'Nike Dunk Low Retro', 'Nike Dunk Low Retro', 'Air Jordan 1 Low', 'Nike Go FlyEase', 'Nike SB Force 58', \"Nike Blazer Mid '77 Vintage\", 'Air Jordan 1 Low', 'Air Jordan 1 Mid', 'Air Jordan 1 Low SE', 'Nike Air Max Pulse', 'Air Jordan 3 Retro Craft \"Ivory\"', 'Air Jordan 1 Retro High OG \"Black & White\"', 'Air Jordan 1 Retro High OG \"White and Gold\"', 'Air Jordan 3 Retro \"Green Glow\"', 'Nike Air VaporMax Plus', \"Nike Air Force 1 '07 LV8\", \"Nike Air Force 1 '07 LV8\", 'Air Jordan 1 Low OG', 'Air Jordan 3 \"Fear\"', 'Nike Air Max 90 GORE-TEX', 'Nike Waffle One', 'Nike SB Zoom Janoski OG+', 'Air Jordan 1 Retro Low Slip', 'Nike Air Max 2017', 'Air Jordan 9 Retro', 'Nike Air VaporMax 2021 FK', 'Nike Dunk Low', \"Nike Air Force 1 '07 EasyOn\"]\n"
     ]
    }
   ],
   "source": [
    "import time\n",
    "from selenium import webdriver\n",
    "from selenium.webdriver.common.action_chains import ActionChains\n",
    "from bs4 import BeautifulSoup\n",
    "\n",
    "def scrapeInfinite():\n",
    "    driver = webdriver.Firefox()\n",
    "    url = \"https://www.nike.com/w/mens-lifestyle-shoes-13jrmznik1zy7ok\"\n",
    "    #url = \"https://quotes.toscrape.com/scroll\"\n",
    "    driver.get(url)\n",
    "    last_height = driver.execute_script(\"return document.body.scrollHeight\")\n",
    "\n",
    "    while True:\n",
    "        # Scroll down to bottom\n",
    "        driver.execute_script(\"window.scrollTo(0, document.body.scrollHeight);\")\n",
    "        \n",
    "        # Wait to load page\n",
    "        time.sleep(5)\n",
    "        \n",
    "        # Calculate new scroll height and compare with last scroll height\n",
    "        new_height = driver.execute_script(\"return document.body.scrollHeight\")\n",
    "        if new_height == last_height:\n",
    "            break\n",
    "        last_height = new_height\n",
    "\n",
    "    # Once you've reached the bottom of the page, parse the HTML\n",
    "    soup = BeautifulSoup(driver.page_source, 'lxml')\n",
    "    \n",
    "    # Now you can extract data using BeautifulSoup\n",
    "    # For example, let's extract all product names\n",
    "    \n",
    "    product_names = []\n",
    "    products = soup.find_all('div', class_='product-card__title')\n",
    "    \n",
    "    #quotes =[]\n",
    "    #all_quotes = soup.find_all('div', class_=\"quote\")   \n",
    "    for product in products:\n",
    "    #for quote in all_quotes:\n",
    "        product_names.append(product.text.strip())\n",
    "        #all_quotes.append(quote.text.strip())\n",
    "\n",
    "\n",
    "    # Close the webdriver\n",
    "    driver.quit()\n",
    "\n",
    "    return product_names\n",
    "    #return all_quotes\n",
    "\n",
    "# Call the function to scrape\n",
    "product_names = scrapeInfinite()\n",
    "print(product_names)\n"
   ]
  },
  {
   "cell_type": "code",
   "execution_count": 11,
   "metadata": {},
   "outputs": [
    {
     "data": {
      "text/plain": [
       "48"
      ]
     },
     "execution_count": 11,
     "metadata": {},
     "output_type": "execute_result"
    }
   ],
   "source": [
    "len(product_names)"
   ]
  }
 ],
 "metadata": {
  "kernelspec": {
   "display_name": "Python 3 (ipykernel)",
   "language": "python",
   "name": "python3"
  },
  "language_info": {
   "codemirror_mode": {
    "name": "ipython",
    "version": 3
   },
   "file_extension": ".py",
   "mimetype": "text/x-python",
   "name": "python",
   "nbconvert_exporter": "python",
   "pygments_lexer": "ipython3",
   "version": "3.11.4"
  }
 },
 "nbformat": 4,
 "nbformat_minor": 2
}
