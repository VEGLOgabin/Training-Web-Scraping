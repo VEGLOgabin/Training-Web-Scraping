{
 "cells": [
  {
   "cell_type": "code",
   "execution_count": 1,
   "id": "2244c2c4",
   "metadata": {},
   "outputs": [],
   "source": [
    "import requests\n",
    "from bs4 import BeautifulSoup\n",
    "from datetime import datetime\n",
    "from datetime import timedelta\n"
   ]
  },
  {
   "cell_type": "code",
   "execution_count": 2,
   "id": "30d6429f",
   "metadata": {},
   "outputs": [],
   "source": [
    "url = \"https://devpost.com/hackathons\""
   ]
  },
  {
   "cell_type": "code",
   "execution_count": 3,
   "id": "a43024e6",
   "metadata": {},
   "outputs": [
    {
     "name": "stdout",
     "output_type": "stream",
     "text": [
      "200\n"
     ]
    }
   ],
   "source": [
    "resp = requests.get(url)\n",
    "print(resp.status_code)"
   ]
  },
  {
   "cell_type": "code",
   "execution_count": 4,
   "id": "ee762e7f",
   "metadata": {},
   "outputs": [],
   "source": [
    "if resp.status_code ==200:\n",
    "    soup = BeautifulSoup(resp.content, \"lxml\")"
   ]
  },
  {
   "cell_type": "code",
   "execution_count": null,
   "id": "24c65551",
   "metadata": {},
   "outputs": [],
   "source": []
  }
 ],
 "metadata": {
  "kernelspec": {
   "display_name": "Python 3 (ipykernel)",
   "language": "python",
   "name": "python3"
  },
  "language_info": {
   "codemirror_mode": {
    "name": "ipython",
    "version": 3
   },
   "file_extension": ".py",
   "mimetype": "text/x-python",
   "name": "python",
   "nbconvert_exporter": "python",
   "pygments_lexer": "ipython3",
   "version": "3.11.4"
  }
 },
 "nbformat": 4,
 "nbformat_minor": 5
}
